{
 "cells": [
  {
   "cell_type": "markdown",
   "metadata": {},
   "source": [
    "# Absorption, Simulation, Observation, Oh My!"
   ]
  },
  {
   "cell_type": "markdown",
   "metadata": {},
   "source": [
    "In this notebook we will load in data of column densities estimated from simulations of galactic winds to compare to an observation of a starbursting galaxy. We will then use a minimum chi-squared best fit to determine the best fit \"covering fraction\" for each type of galactic wind in order to match the observations. "
   ]
  },
  {
   "cell_type": "code",
   "execution_count": 1,
   "metadata": {},
   "outputs": [],
   "source": [
    "#import statements\n",
    "import numpy as np\n",
    "import matplotlib.pyplot as plt\n",
    "import h5py\n",
    "import pandas as pd\n",
    "%matplotlib inline\n",
    "\n",
    "#physical constants\n",
    "c_speed = 3.0e10 #cm/s\n",
    "#ion/transistion cross section\n",
    "sigma = 6.359e-18 \n",
    "rest_wave = 1402.77  #SIV"
   ]
  },
  {
   "cell_type": "markdown",
   "metadata": {},
   "source": [
    "Below are functions we will use to convert the data from wavelength to velocity space, calculate the absorption profiles, and calculate the minimum chi-squared fit. "
   ]
  },
  {
   "cell_type": "code",
   "execution_count": 10,
   "metadata": {},
   "outputs": [],
   "source": [
    "#function to read in spectrum, convert to velocity and return\n",
    "#wavelength and flux numpy arrays\n",
    "def convert_to_vel(wavelengths, rest_wave):\n",
    "    vel = c_speed*(wavelengths/rest_wave -1)\n",
    "    return vel  #cm/s\n",
    "\n",
    "def get_runData(simFile, runTitle, time):\n",
    "    #find the line that is the first instance of the run you want to analyze\n",
    "    runNumber = 0\n",
    "    for i in range(len(simFile['Run'])):\n",
    "        if sim_data['Run'][i] == runTitle:\n",
    "            runNumber = i\n",
    "            break\n",
    "   #get data from simulation file\n",
    "    vel_ion = simFile[' velocity(km/s)'][time+runNumber]\n",
    "    b = simFile[' b(km/s)'][time+runNumber]\n",
    "    N_avg = simFile[' area'][time+runNumber]\n",
    "    return vel_ion, b, N_avg\n",
    "\n",
    "#analysis function\n",
    "def analysis(runTitle, sim_data, vels, flux):\n",
    "    #select only the velocities and fluxes between -600 and 200 km/s\n",
    "    newvels = []\n",
    "    newflux = []\n",
    "    for i in range(len(vels)):\n",
    "        if vels[i] < 200 and vels[i] > -600:\n",
    "            newvels.append(vels[i])\n",
    "            newflux.append(flux[i])\n",
    "        \n",
    "    newvels = np.array(newvels)\n",
    "    newflux = np.array(newflux)\n",
    "\n",
    "    #loop through the four times for each run \n",
    "    chis = [[],[],[],[]]\n",
    "    for time in range(len(chis)):\n",
    "        vel_ion, b, N_avg = get_runData(sim_data, runTitle, time)\n",
    "        fvalues = np.arange(0, 1, 0.01)\n",
    "        for f in fvalues:\n",
    "            #calculate flux for this time\n",
    "            fluxes = flux_func(vel_ion, b, N_avg, f, newvels) \n",
    "            #make sure you use the same list of velocities as the observations!\n",
    "            chi_each = (fluxes - newflux)**2/newflux\n",
    "            sum_chi = chi_each.sum()\n",
    "            chis[time].append(sum_chi)\n",
    "\n",
    "    #find the covering fraction with the lowest chi squared for each time\n",
    "    bestf = np.zeros(4)\n",
    "    chif = np.zeros(4)\n",
    "    for time in range(len(chis)):\n",
    "        minChi_index = np.argmin(chis[time])\n",
    "        bestf[time] = fvalues[minChi_index]\n",
    "        chif[time] = chis[time][minChi_index]\n",
    "    \n",
    "    #find the time with the lowest chi squared\n",
    "    overall_bestf_ind = np.argmin(chif)\n",
    "    \n",
    "    #print results\n",
    "    print(runTitle+\" at time: \"+str(overall_bestf_ind))\n",
    "    txt = \"Best F value: {bestfit:.2f} (Chi^2: {chifit:.2f})\"\n",
    "    print(txt.format(bestfit = bestf[overall_bestf_ind], chifit = chif[overall_bestf_ind]))\n",
    "    \n",
    "    return bestf[overall_bestf_ind], chif[overall_bestf_ind], overall_bestf_ind, newvels"
   ]
  },
  {
   "cell_type": "markdown",
   "metadata": {},
   "source": [
    "Now we will begin our analysis! Begin with opening the data files and coverting wavelength to velocity with the function: convert_to_vel"
   ]
  },
  {
   "cell_type": "code",
   "execution_count": 3,
   "metadata": {},
   "outputs": [],
   "source": [
    "#load observation data\n",
    "obs_data = pd.read_csv('Spring/obs_noOVI.txt')\n",
    "wavelengths = obs_data['Wavelength']\n",
    "flux = obs_data['Flux']\n",
    "#convert to velocity, convert to km/s\n",
    "obsvels = convert_to_vel(wavelengths, rest_wave)/1e5\n",
    "\n",
    "#load simulation data\n",
    "sim_data = pd.read_csv('Spring/SiIV.txt')"
   ]
  },
  {
   "cell_type": "markdown",
   "metadata": {},
   "source": [
    "Here we list the names of the different runs in the simulation data file so that we can access them later. We do this by looping through the rows of data and comparing the name of the run to the name of the run in the row before it. If the name is different, the name is printed out."
   ]
  },
  {
   "cell_type": "code",
   "execution_count": 4,
   "metadata": {},
   "outputs": [
    {
     "name": "stdout",
     "output_type": "stream",
     "text": [
      "\n",
      "T0.3_v1000_chi300_cond\n",
      "T3_v3000_chi3000_cond\n",
      "T1_v1700_chi1000_cond\n",
      "T0.3_v1000_chi300\n",
      "T3_v3000_chi3000\n",
      "T1_v1700_chi1000\n",
      "HC_v1000_chi300_cond\n",
      "HC_v1700_chi1000_cond\n",
      "HC_v3000_chi3000_cond\n",
      "LowCond_v1700_chi300_cond\n",
      "T0.3_v1700_chi300_cond\n",
      "T0.3_v3000_chi300_cond\n",
      "T3_v860_chi3000_cond\n",
      "T10_v1500_chi10000_cond\n",
      "T1_v480_chi1000_cond\n",
      "T0.3_v1700_chi300\n",
      "T0.3_v3000_chi300\n",
      "T3_v430_chi3000\n",
      "T3_v860_chi3000\n",
      "T1_v3000_chi1000\n",
      "T10_v1500_chi10000\n"
     ]
    }
   ],
   "source": [
    "#list the titles of the runs in the simulation data file\n",
    "runName = ''\n",
    "for i in range(len(sim_data['Run'])):\n",
    "    if runName != sim_data['Run'][i]:\n",
    "        print(runName)\n",
    "        runName = sim_data['Run'][i]"
   ]
  },
  {
   "cell_type": "markdown",
   "metadata": {},
   "source": [
    "Here, try to plot the observation's absorption profile. Use ax.plot() plotting velocity on the x axis and flux on the y axis. Set the limits for the y axis between 0 and 1.2, and the x axis between -600 and 200 km/s. Play around with the plot to make it look nice, add a title, axis labels, etc."
   ]
  },
  {
   "cell_type": "code",
   "execution_count": 5,
   "metadata": {},
   "outputs": [
    {
     "data": {
      "text/plain": [
       "Text(0.5, 0, 'Velocity (km/s)')"
      ]
     },
     "execution_count": 5,
     "metadata": {},
     "output_type": "execute_result"
    },
    {
     "data": {
      "image/png": "[encoded data removed]",
      "text/plain": [
       "<Figure size 432x288 with 1 Axes>"
      ]
     },
     "metadata": {
      "needs_background": "light"
     },
     "output_type": "display_data"
    }
   ],
   "source": [
    "fig, ax = plt.subplots()\n",
    "ax.plot(obsvels, flux)\n",
    "ax.set_ylim(0, 1.2)\n",
    "ax.set_xlim(-600, 200)\n",
    "ax.set_title('Observational Data')\n",
    "ax.set_ylabel('Flux')\n",
    "ax.set_xlabel('Velocity (km/s)')"
   ]
  },
  {
   "cell_type": "markdown",
   "metadata": {},
   "source": [
    "Now we need to write a funtion to calculate the absorption profiles from the simulation data! Write a function that takes the some constants; \n",
    "\n",
    "- velocity of the ion = vel_ion\n",
    "- the width of the profile = b\n",
    "- the average column density = N_avg\n",
    "\n",
    "*** These constants are stored in the simulation data file and will be read in by the 'analysis' function\n",
    "\n",
    "As well as variables you will give the function; \n",
    "- the covering fraction = f\n",
    "- the list of velocities = vels\n",
    "\n",
    "\n",
    "and calculates the flux from the equation in the paper you read! This function should return an array of fluxes over the list of velocities you pass to the function."
   ]
  },
  {
   "cell_type": "code",
   "execution_count": 6,
   "metadata": {},
   "outputs": [],
   "source": [
    "#function to calucate absorbtion profile\n",
    "def flux_func(vel_ion, b, N_avg, f, vels):\n",
    "    tau = ((c_speed/1.e5)*sigma)/(np.sqrt(np.pi)*b)*np.exp(-((vels + vel_ion)**2/b**2))\n",
    "    sim_flux = (1-f) + f*np.exp(-1*tau*N_avg)\n",
    "    return np.array(sim_flux)"
   ]
  },
  {
   "cell_type": "markdown",
   "metadata": {},
   "source": [
    "Now we're ready to do some analysis! Define a variable with the name of the run you want to analyze, then call analysis passing it the run name, the data file from the simulations, the lists of velocities and fluxes from the observation. The analysis will return the best fit covering fraction, the chi for that best fit, the time of that fit, and a list of velocities. \n",
    "\n",
    "Then get the constants you need to calculate the flux with get_runData giving it the data file of the simulation data, the run name and the time. \n",
    "\n",
    "Use these constants and the best fit covering fraction to plot the best fit absorption profile! Add another line to plot the observed absorption profile, and adjust the plot to make it look nice :) "
   ]
  },
  {
   "cell_type": "code",
   "execution_count": 11,
   "metadata": {},
   "outputs": [
    {
     "name": "stdout",
     "output_type": "stream",
     "text": [
      "T0.3_v1000_chi300 at time: 2\n",
      "Best F value: 0.74 (Chi^2: 0.90)\n"
     ]
    },
    {
     "data": {
      "text/plain": [
       "Text(0.5, 0, 'Velocity (km/s)')"
      ]
     },
     "execution_count": 11,
     "metadata": {},
     "output_type": "execute_result"
    },
    {
     "data": {
      "image/png": "[encoded data removed]",
      "text/plain": [
       "<Figure size 432x288 with 1 Axes>"
      ]
     },
     "metadata": {
      "needs_background": "light"
     },
     "output_type": "display_data"
    }
   ],
   "source": [
    "runTitle = 'T0.3_v1000_chi300'\n",
    "\n",
    "bestf, chi, time, vels = analysis(runTitle, sim_data, obsvels, flux)\n",
    "vel_ion, b, N_avg = get_runData(sim_data, runTitle, time)\n",
    "\n",
    "fig, ax = plt.subplots(1,1)\n",
    "ax.plot(vels, flux_func(vel_ion, b, N_avg, bestf, vels))\n",
    "ax.plot(obsvels, flux, color = 'black')\n",
    "ax.set_ylim(0, 1.2)\n",
    "ax.set_xlim(-600, 200)\n",
    "ax.set_title('Observational Data and Best Fit')\n",
    "ax.set_ylabel('Flux')\n",
    "ax.set_xlabel('Velocity (km/s)')"
   ]
  },
  {
   "cell_type": "markdown",
   "metadata": {},
   "source": [
    "Now that you have calculated a best fit for one of the winds, try different winds! Do some fit better than others? Which one has the lowest chi squared fit? Which one has the highest covering fraction? What conclusions can you make looking at all of these? \n",
    "\n",
    "Bonus: Can you write some code for calculate the best fit for all of the different types of winds and then output the best fit of them all? "
   ]
  },
  {
   "cell_type": "code",
   "execution_count": null,
   "metadata": {},
   "outputs": [],
   "source": []
  }
 ],
 "metadata": {
  "kernelspec": {
   "display_name": "Python 3",
   "language": "python",
   "name": "python3"
  },
  "language_info": {
   "codemirror_mode": {
    "name": "ipython",
    "version": 3
   },
   "file_extension": ".py",
   "mimetype": "text/x-python",
   "name": "python",
   "nbconvert_exporter": "python",
   "pygments_lexer": "ipython3",
   "version": "3.7.4"
  }
 },
 "nbformat": 4,
 "nbformat_minor": 2
}
